{
 "cells": [
  {
   "cell_type": "markdown",
   "metadata": {},
   "source": [
    "# All PyZX Features\n",
    "\n",
    "## Contents:\n",
    "* [Loading and saving circuits](#circuits)\n",
    "* [Interacting with Quantomatic](#quantomatic)\n",
    "* [Optimizing ZX-diagrams](#optimization-zx)\n",
    "* [Extracting and optimizing circuits](#optimization-circuits)"
   ]
  },
  {
   "cell_type": "code",
   "execution_count": null,
   "metadata": {},
   "outputs": [],
   "source": [
    "import sys; sys.path.append('..')\n",
    "import random, math, os\n",
    "import pyzx as zx\n",
    "from fractions import Fraction\n",
    "%config InlineBackend.figure_format = 'svg'"
   ]
  },
  {
   "cell_type": "markdown",
   "metadata": {},
   "source": [
    "<a id=\"circuits\"></a>\n",
    "# Loading and saving circuits\n",
    "The most straightforward way to load a circuit is to use ``zx.Circuit.load`` which tries to figure out in which file format the circuit is given. The supported file formats are QASM, QC and the Quipper ASCII format. The corresponding loading functions are:\n",
    "* ``zx.Circuit.from_qasm_file``\n",
    "* ``zx.Circuit.from_quipper_file``\n",
    "* ``zx.Circuit.from_qc_file``"
   ]
  },
  {
   "cell_type": "code",
   "execution_count": null,
   "metadata": {},
   "outputs": [],
   "source": [
    "fname = os.path.join('..','circuits','Fast', 'mod5_4_before')\n",
    "circ = zx.Circuit.load(fname)\n",
    "# Alternatively we could have done:\n",
    "# circ = zx.Circuit.from_quipper_file(fname)\n",
    "zx.draw(circ, figsize=(10,2), h_edge_draw='box')"
   ]
  },
  {
   "cell_type": "markdown",
   "metadata": {},
   "source": [
    "We can ask for simple statistics for this circuit:"
   ]
  },
  {
   "cell_type": "code",
   "execution_count": null,
   "metadata": {},
   "outputs": [],
   "source": [
    "print(circ.stats())"
   ]
  },
  {
   "cell_type": "markdown",
   "metadata": {},
   "source": [
    "This does not give very accurate information as the majority of this circuit is contained inside of CCZ gates. We can write the circuit in terms of basic gates to get more accurate statistics:"
   ]
  },
  {
   "cell_type": "code",
   "execution_count": null,
   "metadata": {},
   "outputs": [],
   "source": [
    "print(circ.to_basic_gates().stats())"
   ]
  },
  {
   "cell_type": "markdown",
   "metadata": {},
   "source": [
    "A Circuit can be exported into the supported file formats using\n",
    "    * ``circ.to_qasm``\n",
    "    * ``circ.to_quipper``\n",
    "    * ``circ.to_qc``"
   ]
  },
  {
   "cell_type": "code",
   "execution_count": null,
   "metadata": {},
   "outputs": [],
   "source": [
    "print(circ.to_qasm())"
   ]
  },
  {
   "cell_type": "code",
   "execution_count": null,
   "metadata": {},
   "outputs": [],
   "source": [
    "print(circ.to_quipper())"
   ]
  },
  {
   "cell_type": "code",
   "execution_count": null,
   "metadata": {},
   "outputs": [],
   "source": [
    "print(circ.to_qc())"
   ]
  },
  {
   "cell_type": "markdown",
   "metadata": {},
   "source": [
    "<a id=\"quantomatic\"></a>\n",
    "# Interacting with Quantomatic\n",
    "PyZX allows easy integration with quantomatic.\n",
    "\n",
    "First of all, Quantomatic graph files can be imported into PyZX:"
   ]
  },
  {
   "cell_type": "code",
   "execution_count": null,
   "metadata": {},
   "outputs": [],
   "source": [
    "fname = os.path.join('..','circuits','2-qubit-unitary.qgraph')\n",
    "with open(fname, 'r') as f:\n",
    "    g = zx.json_to_graph(f.read())\n",
    "zx.draw(g, labels=True)"
   ]
  },
  {
   "cell_type": "markdown",
   "metadata": {},
   "source": [
    "PyZX saves the names of the vertices:"
   ]
  },
  {
   "cell_type": "code",
   "execution_count": null,
   "metadata": {},
   "outputs": [],
   "source": [
    "print(g.vdata(12,'name'))\n",
    "print(g.vdata(1,'name'))"
   ]
  },
  {
   "cell_type": "markdown",
   "metadata": {},
   "source": [
    "Because this graph was originally exported from PyZX, it has automatically remembered what its inputs and outputs are:"
   ]
  },
  {
   "cell_type": "code",
   "execution_count": null,
   "metadata": {},
   "outputs": [],
   "source": [
    "g.inputs, g.outputs"
   ]
  },
  {
   "cell_type": "markdown",
   "metadata": {},
   "source": [
    "For a graph that originated from Quantomatic we need to tell it what its inputs and outputs are.\n",
    "\n",
    "This can be done either manually:\n",
    "\n",
    "    ``g.inputs = list_of_inputs; g.outputs = list_of_outputs``\n",
    "Or by PyZX trough calling ``g.auto_detect_inputs()``. This function makes all the vertices on the leftmost row inputs, and the vertices on the rightmost row outputs. For example:"
   ]
  },
  {
   "cell_type": "code",
   "execution_count": null,
   "metadata": {},
   "outputs": [],
   "source": [
    "g.inputs = []\n",
    "g.outputs = []\n",
    "g.auto_detect_inputs()\n",
    "print(g.inputs, g.outputs)"
   ]
  },
  {
   "cell_type": "markdown",
   "metadata": {},
   "source": [
    "We can also call Quantomatic from PyZX. To do this we first need to tell PyZX where the Quantomatic executable can be found:"
   ]
  },
  {
   "cell_type": "code",
   "execution_count": null,
   "metadata": {},
   "outputs": [],
   "source": [
    "zx.quantomatic.quantomatic_location = os.path.join('path', 'to', 'Quantomatic.jar')"
   ]
  },
  {
   "cell_type": "markdown",
   "metadata": {},
   "source": [
    "Now, we can load a PyZX graph into Quantomatic using the following line:"
   ]
  },
  {
   "cell_type": "code",
   "execution_count": null,
   "metadata": {},
   "outputs": [],
   "source": [
    "result = zx.quantomatic.edit_graph(g)"
   ]
  },
  {
   "cell_type": "markdown",
   "metadata": {},
   "source": [
    "This starts Quantomatic with the graph ``g`` loaded. When you are done editing the graph, you simply save the file in Quantomatic, and close it. The result is then loaded and returned.\n",
    "\n",
    "NOTE1: The Notebook will be blocked until the Quantomatic executable is closed.\n",
    "\n",
    "NOTE2: Currently this only works with a recent build of Quantomatic that is as of yet only available via the repository, so make sure you are working with an up-to-date branch of Quantomatic."
   ]
  },
  {
   "cell_type": "markdown",
   "metadata": {},
   "source": [
    "<a id=\"optimization-zx\"></a>\n",
    "# Optimizing ZX-diagrams\n",
    "PyZX contains many functions for optimizing circuits and ZX-diagrams. In this section we will show how these methods work and can be called.\n",
    "\n",
    "First, let us load a small circuit:"
   ]
  },
  {
   "cell_type": "code",
   "execution_count": null,
   "metadata": {},
   "outputs": [],
   "source": [
    "fname = os.path.join('..','circuits','Fast', 'mod5_4_before')\n",
    "circ = zx.Circuit.load(fname)\n",
    "print(\"original T-count:\", zx.tcount(circ))\n",
    "zx.draw(circ, figsize=(10,2))"
   ]
  },
  {
   "cell_type": "markdown",
   "metadata": {},
   "source": [
    "The most basic simplification routine for ZX-graphs is ``interior_clifford_simp``. This uses the simplification rules based on spider-fusion, identity removal, pivoting and local complementation until they cannot be applied anymore."
   ]
  },
  {
   "cell_type": "code",
   "execution_count": null,
   "metadata": {},
   "outputs": [],
   "source": [
    "g = circ.to_graph() # We first have to convert the circuit into a ZX-graph\n",
    "zx.simplify.interior_clifford_simp(g,quiet=False) # if it is not quiet then the amount of reductions in each step is printed\n",
    "# The following function makes the representation of the graph more compact. \n",
    "# It only moves vertices around, and may introduce some identities\n",
    "# It is recommended to call this function before trying to draw a graph, as otherwise the graph might not be very readable.\n",
    "g.normalise() \n",
    "display(zx.draw(g))\n",
    "print(\"Optimized T-count:\", zx.tcount(g))"
   ]
  },
  {
   "cell_type": "markdown",
   "metadata": {},
   "source": [
    "As you can see this routine has decreased the T-count by a bit, but not by a lot.\n",
    "\n",
    "\n",
    "Part of the reason is that in this circuit there are still a few phaseless nodes 'trapped' in the middle of the circuit. These nodes are however connected to the boundary, so if we unfuse those boundary nodes we can get rid of the interior nodes. This can be done by calling ``zx.simplify.pivot_double_boundary``. As this function changes the graph, we call ``interior_clifford_simp`` afterwards to do whatever new simplifications have become available."
   ]
  },
  {
   "cell_type": "code",
   "execution_count": null,
   "metadata": {},
   "outputs": [],
   "source": [
    "zx.simplify.pivot_double_boundary(g, quiet=False)\n",
    "g.normalise()\n",
    "display(zx.draw(g))\n",
    "zx.simplify.interior_clifford_simp(g,quiet=False)\n",
    "g.normalise()\n",
    "display(zx.draw(g))\n",
    "print(\"Optimized T-count:\", zx.tcount(g))"
   ]
  },
  {
   "cell_type": "markdown",
   "metadata": {},
   "source": [
    "Doing this further simplification has decreased the T-count by 2 more!\n",
    "\n",
    "The method ``clifford_simp`` is a convenience function that calls ``interior_clifford_simp`` and ``pivot_double_boundary`` until no further simplifications are found. It is recommended that you call ``clifford_simp`` instead of the other functions.\n",
    "In order to further reduce the T-count we have to start using more advanced techniques. Namely the process of *gadgetization*:"
   ]
  },
  {
   "cell_type": "code",
   "execution_count": null,
   "metadata": {},
   "outputs": [],
   "source": [
    "newgadgets, allgadgets = zx.simplify.gadgetize(g)\n",
    "zx.draw(g)"
   ]
  },
  {
   "cell_type": "markdown",
   "metadata": {},
   "source": [
    "This method unfuses all T-like phases so that the underlying graph structure becomes available for doing pivot-based simplifications. To do these pivots optimally however, we need to tell the simplifier that it shouldn't touch the new nodes, the 'gadgets', because that would only undo the gadgetization instead of making progress on the graph."
   ]
  },
  {
   "cell_type": "code",
   "execution_count": null,
   "metadata": {},
   "outputs": [],
   "source": [
    "# This is the match function that tells pivot_simp which edges to consider for simplification\n",
    "def matchf(e):\n",
    "    s, t = g.edge_st(e)\n",
    "    if s in newgadgets or t in newgadgets:\n",
    "        return False\n",
    "    else: return True\n",
    "\n",
    "zx.simplify.pivot_simp(g,matchf=matchf,quiet=False)\n",
    "g.normalise()\n",
    "display(zx.draw(g))\n",
    "print(\"T-count:\", zx.tcount(g))"
   ]
  },
  {
   "cell_type": "markdown",
   "metadata": {},
   "source": [
    "As you can see, the T-count has not actually been reduced by doing just these pivots, but now the graph has a completely different structure then before, so lets see what happens if we apply ``clifford_simp`` again:"
   ]
  },
  {
   "cell_type": "code",
   "execution_count": null,
   "metadata": {},
   "outputs": [],
   "source": [
    "zx.simplify.clifford_simp(g, quiet=False)\n",
    "g.normalise()\n",
    "display(zx.draw(g, figsize=(10,3)))\n",
    "print(\"Optimized T-count:\", zx.tcount(g))"
   ]
  },
  {
   "cell_type": "markdown",
   "metadata": {},
   "source": [
    "That has reduced the T-count from 20 down to 12! Note that we are already surpassing the state-of-the-art in this case, as the previously best-known T-count for this circuit was 16.\n",
    "\n",
    "But we are in fact not done yet. If you look closely at the graph above you will see that a few of the gadgets have exactly the same set of neighbours. Whenever this happens, these phase gadgets can be fused into a single phase gadget by adding the phases together. This procedure is done by ``gadget_simp``:"
   ]
  },
  {
   "cell_type": "code",
   "execution_count": null,
   "metadata": {},
   "outputs": [],
   "source": [
    "zx.simplify.gadget_simp(g, quiet=False)\n",
    "g.normalise()\n",
    "display(zx.draw(g))\n",
    "print(\"Optimized T-count:\", zx.tcount(g))"
   ]
  },
  {
   "cell_type": "markdown",
   "metadata": {},
   "source": [
    "The T-count has been further reduced by 4!\n",
    "\n",
    "There is not much we can do now. We do one final round of ``clifford_simp`` to make the graph a bit smaller."
   ]
  },
  {
   "cell_type": "code",
   "execution_count": null,
   "metadata": {},
   "outputs": [],
   "source": [
    "zx.simplify.clifford_simp(g, quiet=False)\n",
    "g.normalise()\n",
    "display(zx.draw(g))"
   ]
  },
  {
   "cell_type": "markdown",
   "metadata": {},
   "source": [
    "Since it is quite a bit of effort to do all these steps manually, they have been combined into the function ``full_reduce``. This procedure does the following steps:\n",
    "\n",
    " 1. Run ``clifford_simp``.\n",
    " 2. Gadgetize all T-like vertices that aren't phase gadgets.\n",
    " 3. Do ``pivot_simp`` while avoiding gadgets.\n",
    " 4. Run ``clifford_simp``.\n",
    " 5. Run ``gadget_simp``, if it finds simplifications go back to step 1, otherwise halt.\n",
    " \n",
    "To demonstrate:"
   ]
  },
  {
   "cell_type": "code",
   "execution_count": null,
   "metadata": {},
   "outputs": [],
   "source": [
    "g = circ.to_graph()\n",
    "zx.simplify.full_reduce(g,quiet=False)\n",
    "g.normalise()\n",
    "zx.draw(g)"
   ]
  },
  {
   "cell_type": "markdown",
   "metadata": {},
   "source": [
    "The next step is to turn this graph back into a circuit"
   ]
  },
  {
   "cell_type": "markdown",
   "metadata": {},
   "source": [
    "<a id=\"optimization-circuits\"></a>\n",
    "# Extracting and optimizing circuits"
   ]
  },
  {
   "cell_type": "markdown",
   "metadata": {},
   "source": [
    "For extracting circuits out of ZX-graphs there is only a single method in PyZX that you have to call: ``zx.extract.streaming_extract``. This method should always work *when dealing with graphs produced by ``full_reduce``.* There is no guarantee that it can extract circuits from arbitrary ZX-diagrams.\n",
    "\n",
    "Let's see what this method does when applied to the circuit from the previous section:"
   ]
  },
  {
   "cell_type": "code",
   "execution_count": null,
   "metadata": {},
   "outputs": [],
   "source": [
    "fname = os.path.join('..','circuits','Fast', 'mod5_4_before')\n",
    "circ = zx.Circuit.load(fname)\n",
    "print(\"The original circuit:\")\n",
    "display(zx.draw(circ, figsize=(10,1.5)))\n",
    "\n",
    "g = circ.to_graph()\n",
    "zx.simplify.full_reduce(g,quiet=True)\n",
    "g.normalise()\n",
    "print(\"The optimized ZX-diagram:\")\n",
    "display(zx.draw(g))\n",
    "\n",
    "new_circ = zx.extract.streaming_extract(g)\n",
    "print(\"The extracted circuit:\")\n",
    "zx.draw(new_circ, figsize=(10,1.5))"
   ]
  },
  {
   "cell_type": "markdown",
   "metadata": {},
   "source": [
    "Explaining how ``streaming_extract`` works is out of scope for this notebook for now. If you want to know more, you can contact the authors.\n",
    "\n",
    "As you can see, the extracted circuit looks quite different from the original circuit, so how can we be sure that they actually represent the same unitary? PyZX allows you to convert ZX-diagrams into the tensors they represent using numpy. In this way we can directly compare the unitaries and see that they are equal:"
   ]
  },
  {
   "cell_type": "code",
   "execution_count": null,
   "metadata": {},
   "outputs": [],
   "source": [
    "# This method checks whether the two given ZX-graphs or circuits have the same tensor representation up to some nonzero scalar\n",
    "zx.compare_tensors(circ, new_circ)"
   ]
  },
  {
   "cell_type": "markdown",
   "metadata": {},
   "source": [
    "This method uses ``zx.tensorfy`` under the hood to turn the circuits into tensors. This method is not optimized for memory usage, so it will run out of memory quite quickly (sometimes even for circuits with 9 or 10 qubits). It is only usable for testing small circuits and ZX-diagrams.\n",
    "\n",
    "``streaming_extract`` does not care about extracting a circuit that is in any way optimal. The amount of 2-qubit gates will therefore often be much higher than it needs to be. If you look at the end of the extracted circuit above you also see that it has some sequences of hadamards in a row that should be cancelled. PyZX offers a circuit optimization method that does this kind of hadamard and 2-qubit gate reduction:"
   ]
  },
  {
   "cell_type": "code",
   "execution_count": null,
   "metadata": {},
   "outputs": [],
   "source": [
    "print(new_circ.to_basic_gates().stats())\n",
    "optimized_circ = zx.optimize.basic_optimization(new_circ.to_basic_gates())\n",
    "print(optimized_circ.stats())\n",
    "zx.draw(optimized_circ, figsize=(10,2))"
   ]
  },
  {
   "cell_type": "markdown",
   "metadata": {},
   "source": [
    "``basic_optimization`` commutes gates past Hadamards in order to find matching CNOT, CZ and Hadamard gates that can be cancelled. Depending on the circuit it can find significant reductions in the amount of Hadamard gates, which is useful for the next optimization routine.\n",
    "\n",
    "As you can see, the optimized circuit only contains 2 Hadamard gates, and in fact the leftmost Hadamard gate could be commuted past the CNOTs and CZs to its left so that the entire interior of the circuit is free of Hadamards. Such a Hadamard-free circuit is called a *phase polynomial* circuit, and there are specific techniques for optimizing these types of circuits. PyZX offers a method that finds phase polynomial sub-circuits and runs an optimization routine on them:"
   ]
  },
  {
   "cell_type": "code",
   "execution_count": null,
   "metadata": {},
   "outputs": [],
   "source": [
    "final_circ = zx.optimize.phase_block_optimize(optimized_circ)\n",
    "final_circ = zx.optimize.basic_optimization(final_circ) # We call this again, as it does some extra processing\n",
    "print(final_circ.stats())\n",
    "zx.draw(final_circ)"
   ]
  },
  {
   "cell_type": "markdown",
   "metadata": {},
   "source": [
    "Let's check once more that this circuit is still equal to the original circuit:"
   ]
  },
  {
   "cell_type": "code",
   "execution_count": null,
   "metadata": {},
   "outputs": [],
   "source": [
    "zx.compare_tensors(circ, final_circ)"
   ]
  },
  {
   "cell_type": "markdown",
   "metadata": {},
   "source": [
    "And finally lets output this circuit in a format that is usable in other software:"
   ]
  },
  {
   "cell_type": "code",
   "execution_count": null,
   "metadata": {},
   "outputs": [],
   "source": [
    "print(final_circ.to_qasm())"
   ]
  }
 ],
 "metadata": {
  "kernelspec": {
   "display_name": "Python 3",
   "language": "python",
   "name": "python3"
  },
  "language_info": {
   "codemirror_mode": {
    "name": "ipython",
    "version": 3
   },
   "file_extension": ".py",
   "mimetype": "text/x-python",
   "name": "python",
   "nbconvert_exporter": "python",
   "pygments_lexer": "ipython3",
   "version": "3.5.2"
  }
 },
 "nbformat": 4,
 "nbformat_minor": 2
}
