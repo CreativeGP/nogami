{
 "cells": [
  {
   "cell_type": "markdown",
   "metadata": {},
   "source": [
    "# Benchmark\n",
    "\n",
    "This notebook provides a straightforward way to compare the PyZX optimization routines against other approaches on a standard set of benchmark circuits."
   ]
  },
  {
   "cell_type": "markdown",
   "metadata": {},
   "source": [
    "First we execute the standard set of imports:"
   ]
  },
  {
   "cell_type": "code",
   "execution_count": 1,
   "metadata": {},
   "outputs": [],
   "source": [
    "import random, math, os, time\n",
    "import sys; sys.path.append('..')\n",
    "import pyzx as zx\n",
    "%config InlineBackend.figure_format = 'svg'"
   ]
  },
  {
   "cell_type": "markdown",
   "metadata": {},
   "source": [
    "The following class is some boilerplate around the simplification routines so that we can more easily print the relevant metrics"
   ]
  },
  {
   "cell_type": "code",
   "execution_count": 2,
   "metadata": {},
   "outputs": [],
   "source": [
    "class CircuitComparer:\n",
    "    def __init__(self, dirname, before, after):\n",
    "        self.fname_before = os.path.join(dirname, before)\n",
    "        if after:\n",
    "            self.fname_after = os.path.join(dirname, after)\n",
    "        else:\n",
    "            self.fname_after = \"\"\n",
    "        self.fname_tpar = \"\"\n",
    "        if before.find('before') != -1:\n",
    "            self.name = before[:-7]\n",
    "        else:\n",
    "            self.name = before\n",
    "        self.has_run = False\n",
    "    def __str__(self):\n",
    "        return \"CircuitComparer({}, {})\".format(self.name, str(self.has_run))\n",
    "    def __repr__(self):\n",
    "        return str(self)\n",
    "    \n",
    "    def run(self):\n",
    "        if self.has_run: return True\n",
    "        if self.fname_after:\n",
    "            c = zx.Circuit.from_quipper_file(self.fname_after).to_basic_gates()\n",
    "            self.t_opt = c.tcount()\n",
    "        else:\n",
    "            self.t_opt = '-'\n",
    "        c = zx.Circuit.load(self.fname_before).to_basic_gates()\n",
    "        self.qubits = c.qubits\n",
    "        if self.fname_tpar:\n",
    "            c2 = zx.Circuit.load(self.fname_tpar)\n",
    "            self.tpar = c2.tcount()\n",
    "        else: self.tpar = \"-\"\n",
    "        self.gatecount = len(c.gates)\n",
    "        self.t_before = c.tcount()\n",
    "        g = c.to_graph()\n",
    "        t = time.time()\n",
    "        zx.simplify.full_reduce(g)\n",
    "        self.t_after = zx.tcount(g)\n",
    "        self.time_simpl = time.time() - t\n",
    "        t = time.time()\n",
    "        self.extracts = True\n",
    "        try: \n",
    "            c2 = zx.extract.streaming_extract(g,quiet=True)\n",
    "            self.time_extr = time.time() - t\n",
    "        except Exception:\n",
    "            self.extracts = False\n",
    "            self.time_extr = -1\n",
    "        self.has_run = True\n",
    "        return True\n",
    "    \n",
    "    def get_output(self):\n",
    "        if not self.has_run:\n",
    "            self.run()\n",
    "        s = self.name.ljust(20) + str(self.qubits).rjust(7)\n",
    "        s += str(self.gatecount).rjust(8) + str(self.t_before).rjust(9) + str(self.t_opt).rjust(7) \n",
    "        s += str(self.tpar).rjust(8) + str(self.t_after).rjust(8)\n",
    "        s += \"{:.2f}\".format(self.time_simpl).rjust(11)\n",
    "        s += \"{:.2f}\".format(self.time_extr).rjust(12)\n",
    "        return s"
   ]
  },
  {
   "cell_type": "markdown",
   "metadata": {},
   "source": [
    "Next we define a function that loads in a directory of circuit files. Note that the directory we target has up to 3 versions of each circuit:\n",
    "\n",
    "* circuit_before   - This is the original circuit with any modifications, taken from the [Github page](https://github.com/njross/optimizer) of [[1]](#NRSCM)\n",
    "* circuit_after    - This is the circuit produced by the optimization routines of [[1]](#NRSCM).\n",
    "* circuit_tpar.qc  - This is the circuit produced by the Tpar algorithm [[2]](#Tpar).\n",
    "  \n",
    "<a id=\"NRSCM\"></a>\n",
    "[1] [Nam, Ross, Su, Childs, Maslov - Automated optimization of large quantum circuits with continuous parameters](https://www.nature.com/articles/s41534-018-0072-4)\n",
    "\n",
    "<a id=\"Tpar\"></a>\n",
    "[2] [Amy, Maslov, Mosca - Polynomial-time T-depth Optimization of Clifford+T circuits via Matroid Partitioning](https://arxiv.org/abs/1303.2042)"
   ]
  },
  {
   "cell_type": "code",
   "execution_count": 3,
   "metadata": {},
   "outputs": [],
   "source": [
    "def load_circuits(directory):\n",
    "    d = directory\n",
    "    beforefiles = []\n",
    "    afterfiles = []\n",
    "    tparfiles = []\n",
    "    for f in os.listdir(d):\n",
    "        if not os.path.isfile(os.path.join(d,f)): continue\n",
    "        if f.find('before') != -1:\n",
    "            beforefiles.append((f,d))\n",
    "        elif f.find('tpar') != -1:\n",
    "            tparfiles.append((f,d))\n",
    "        elif f.find('.qc') != -1 or f.find('.tfc') != -1:\n",
    "            beforefiles.append((f,d))\n",
    "        else: afterfiles.append((f,d))\n",
    "    \n",
    "    circuits = []\n",
    "    for f, d in beforefiles:\n",
    "        if f.find('before') == -1:\n",
    "            n = os.path.splitext(f)[0]\n",
    "        else: n = f[:-7]\n",
    "        for f2,d2 in afterfiles:\n",
    "            if d!=d2: continue\n",
    "            if f2.startswith(n):\n",
    "                c = CircuitComparer(d, f, f2)\n",
    "                circuits.append(c)\n",
    "                break\n",
    "        else:\n",
    "            c = CircuitComparer(d, f, '')\n",
    "            circuits.append(c)\n",
    "        for f2,d2 in tparfiles:\n",
    "            if d!=d2: continue\n",
    "            if f2.startswith(n):\n",
    "                circuits[-1].fname_tpar = os.path.join(d2,f2)\n",
    "    \n",
    "    return circuits\n",
    "\n",
    "dir_fast_circuits = os.path.join('..', 'circuits', 'Fast')\n",
    "fast_circuits = load_circuits(dir_fast_circuits)"
   ]
  },
  {
   "cell_type": "markdown",
   "metadata": {},
   "source": [
    "The directory we target contains a subset of all benchmark circuits, chosen for given quick results. The following cell giving benchmark results of these circuits should therefore only take a few seconds to run. For the benchmarks of slower circuits see [below](#slowbench).\n",
    "The columns have the following meaning:\n",
    "\n",
    "* `Circuit     ` - The name of the circuit\n",
    "* `qubits      ` - Amount of qubits in the circuit\n",
    "* `G-count     ` - Gate count of original circuit\n",
    "* `T-before    ` - Amount of T-gates in original circuit\n",
    "* `T-NRSCM     ` - Amount of T-gates in optimised circuit of [[1]](#NRSCM)\n",
    "* `T-par       ` - Amount of T-gates in optimised circuit of [[2]](#Tpar)\n",
    "* `T-PyZX      ` - Amount of T-gates in optimised circuit made by PyZX\n",
    "* `Time-Simp   ` - The time taken for running the simplification routine on the circuit\n",
    "* `Time-Extract` - The time taken for extracting the circuit after the simplification\n",
    "\n",
    "Note that not all circuits were present in the papers [[1]](#NRSCM) and [[2]](#Tpar) in which case the relevant columns are empty."
   ]
  },
  {
   "cell_type": "code",
   "execution_count": 4,
   "metadata": {
    "scrolled": false
   },
   "outputs": [
    {
     "name": "stdout",
     "output_type": "stream",
     "text": [
      "Circuit              qubits G-count T-before T-NRSCM  T-par  T-PyZX  Time-Simp  Time-Extract\n",
      "Adder8                   23     637      266     56       -      56       0.23        0.09\n",
      "adder_8                  24    1014      399    215     215     173       0.51        2.20\n",
      "barenco_tof_10           19     514      224    100     100     100       0.14        0.16\n",
      "barenco_tof_3             5      66       28     16      16      16       0.01        0.00\n",
      "barenco_tof_4             7     130       56     28      28      28       0.03        0.00\n",
      "barenco_tof_5             9     194       84     40      40      40       0.05        0.01\n",
      "csla_mux_3_original      15     190       70     64       -      62       0.05        0.00\n",
      "csum_mux_9_corrected     30     448      196     84       -      84       0.12        0.03\n",
      "gf2^10_mult              30    1709      700    410     410     410       0.61        0.02\n",
      "gf2^4_mult               12     275      112     68      68      68       0.08        0.00\n",
      "gf2^5_mult               15     429      175    115     111     115       0.12        0.00\n",
      "gf2^6_mult               18     617      252    150     150     150       0.19        0.01\n",
      "gf2^7_mult               21     839      343    217     217     217       0.39        0.01\n",
      "gf2^8_mult               24    1109      448    264     264     264       0.52        0.03\n",
      "gf2^9_mult               27    1385      567    351     351     351       0.50        0.02\n",
      "grover_5.qc               9     927      336      -      52     166       0.36        0.25\n",
      "ham15-low.qc             17     489      161      -       -      97       0.27        1.25\n",
      "hwb6.qc                   7     289      105      -       -      75       0.09        0.03\n",
      "mod5_4                    5      71       28     16      16       8       0.01        0.00\n",
      "mod_mult_55               9     133       49     35      37      35       0.04        0.02\n",
      "mod_red_21               11     312      119     73      73      73       0.12        0.11\n",
      "nth_prime6.tfc            9    1241      567      -       -     279       0.80        0.36\n",
      "qcla_adder_10            36     589      238    162     162     162       0.17        1.73\n",
      "qcla_com_7               24     501      203     95      95      95       0.18        0.58\n",
      "qcla_mod_7               26    1002      413    235     249     237       0.35        5.05\n",
      "QFT16                    16     586      342    144       -     144       0.10        0.01\n",
      "QFT8                      8     148       84     42       -      42       0.02        0.00\n",
      "QFTAdd8                  16     476      252    112       -     112       0.12        0.15\n",
      "qft_4.qc                  5     183       69      -       -      67       0.03        0.02\n",
      "rc_adder_6               14     222       77     47      63      49       0.07        0.06\n",
      "tof_10                   19     289      119     71      71      71       0.07        0.46\n",
      "tof_3                     5      51       21     15      15      15       0.01        0.00\n",
      "tof_4                     7      85       35     23      23      23       0.02        0.00\n",
      "tof_5                     9     119       49     31      31      31       0.02        0.01\n",
      "vbe_adder_3              10     170       70     24      24      24       0.04        0.02\n"
     ]
    }
   ],
   "source": [
    "print(\"Circuit\".ljust(20), \"qubits\", \"G-count\", \"T-before\", \"T-NRSCM\", \" T-par\", \" T-PyZX\", \" Time-Simp\", \" Time-Extract\")\n",
    "for c in fast_circuits:\n",
    "    print(c.get_output())"
   ]
  },
  {
   "cell_type": "markdown",
   "metadata": {},
   "source": [
    "<a id=\"slowbench\"></a>\n",
    "And now we do the benchmark on the slower circuits. Note that this can take up to half an hour to complete."
   ]
  },
  {
   "cell_type": "code",
   "execution_count": 6,
   "metadata": {},
   "outputs": [
    {
     "name": "stdout",
     "output_type": "stream",
     "text": [
      "Circuit              qubits G-count T-before T-NRSCM  T-par  T-PyZX  Time-Simp  Time-Extract\n",
      "Adder16                  47    1437      602    120       -     120       0.58       14.36\n",
      "Adder32                  95    3037     1274    248       -     248       1.59      128.39\n",
      "Adder64                 191    6237     2618    504       -     504       3.22      510.34\n",
      "gf2^16_mult              48    4397     1792   1040    1040    1040       4.65        0.16\n",
      "ham15-high.qc            20    6010     2457      -       -    1019       7.39       22.70\n",
      "ham15-med.qc             17    1436      574      -       -     212       1.28        1.83\n",
      "mod_adder_1024           28    4855     1995   1011    1011    1011       2.31        8.45\n",
      "QFT32                    32    1562      918    368       -     368       0.24        0.04\n",
      "QFTAdd16                 32    1822     1026    402       -     402       0.46        0.94\n",
      "QFTAdd32                 64    4814     2754   1042       -    1042       1.34       35.38\n"
     ]
    }
   ],
   "source": [
    "dir_slow_circuits = os.path.join('..', 'circuits', 'Slow')\n",
    "slow_circuits = load_circuits(dir_slow_circuits)\n",
    "print(\"Circuit\".ljust(20), \"qubits\", \"G-count\", \"T-before\", \"T-NRSCM\", \" T-par\", \" T-PyZX\", \" Time-Simp\", \" Time-Extract\")\n",
    "for c in slow_circuits:\n",
    "    print(c.get_output())"
   ]
  }
 ],
 "metadata": {
  "kernelspec": {
   "display_name": "Python 3",
   "language": "python",
   "name": "python3"
  },
  "language_info": {
   "codemirror_mode": {
    "name": "ipython",
    "version": 3
   },
   "file_extension": ".py",
   "mimetype": "text/x-python",
   "name": "python",
   "nbconvert_exporter": "python",
   "pygments_lexer": "ipython3",
   "version": "3.5.2"
  }
 },
 "nbformat": 4,
 "nbformat_minor": 2
}
